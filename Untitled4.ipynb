{
 "cells": [
  {
   "cell_type": "code",
   "execution_count": 3,
   "metadata": {},
   "outputs": [
    {
     "name": "stdout",
     "output_type": "stream",
     "text": [
      "Enter First Name:Saleem\n",
      "Enter Last Name:Akhtar\n",
      "Hello Sir Your Actual Name is: Saleem Akhtar\n",
      "Hello Sir Your Name in Reverse order is: Akhtar Saleem\n"
     ]
    }
   ],
   "source": [
    "firstName = input(\"Enter First Name:\")\n",
    "lastName = input(\"Enter Last Name:\")\n",
    "print(\"Hello Sir Your Actual Name is: \" + firstName + \" \" + lastName)\n",
    "print(\"Hello Sir Your Name in Reverse order is: \" + lastName + \" \" +firstName)"
   ]
  },
  {
   "cell_type": "code",
   "execution_count": 4,
   "metadata": {},
   "outputs": [
    {
     "name": "stdout",
     "output_type": "stream",
     "text": [
      "Enter Number 1: 9\n",
      "Enter Number 2: 9\n",
      "18\n"
     ]
    }
   ],
   "source": [
    "num1 = int(input(\"Enter Number 1: \"))\n",
    "num2 = int(input(\"Enter Number 2: \"))\n",
    "addition = num1 + num2\n",
    "print(addition)\n"
   ]
  },
  {
   "cell_type": "code",
   "execution_count": null,
   "metadata": {},
   "outputs": [],
   "source": [
    "print (\"Total Marks = 500\")\n",
    "print (\"Enter Marks of Five Subjects\")\n",
    "a,b,c,d,e = int(input()),int(input()),int(input()),int(input()),int(input()),\n",
    "englishMarks = (a)\n",
    "urduMarks = (b)\n",
    "mathMarks = (c)\n",
    "physicsMarks = (d)\n",
    "chemistryMarks = (e)\n",
    "print(a,b,c,d,e)\n",
    "total = a + b + c + d + e\n",
    "print(\"Your total Marks are: \" total)"
   ]
  },
  {
   "cell_type": "code",
   "execution_count": null,
   "metadata": {},
   "outputs": [],
   "source": []
  },
  {
   "cell_type": "code",
   "execution_count": null,
   "metadata": {},
   "outputs": [],
   "source": []
  }
 ],
 "metadata": {
  "kernelspec": {
   "display_name": "Python 3",
   "language": "python",
   "name": "python3"
  },
  "language_info": {
   "codemirror_mode": {
    "name": "ipython",
    "version": 3
   },
   "file_extension": ".py",
   "mimetype": "text/x-python",
   "name": "python",
   "nbconvert_exporter": "python",
   "pygments_lexer": "ipython3",
   "version": "3.7.4"
  }
 },
 "nbformat": 4,
 "nbformat_minor": 2
}
