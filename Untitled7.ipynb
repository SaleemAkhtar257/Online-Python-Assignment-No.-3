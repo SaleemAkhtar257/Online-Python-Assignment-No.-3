{
 "cells": [
  {
   "cell_type": "code",
   "execution_count": 5,
   "metadata": {},
   "outputs": [
    {
     "name": "stdout",
     "output_type": "stream",
     "text": [
      "Enter marks of the first subject: 55\n",
      "Enter marks of the second subject: 55\n",
      "Enter marks of the third subject: 55\n",
      "Enter marks of the fourth subject: 55\n",
      "Enter marks of the fifth subject: 55\n",
      "Grade: F\n",
      "Total Marks:  275\n",
      "Grades:  \n"
     ]
    }
   ],
   "source": [
    "sub1=int(input(\"Enter marks of the first subject: \"))\n",
    "sub2=int(input(\"Enter marks of the second subject: \"))\n",
    "sub3=int(input(\"Enter marks of the third subject: \"))\n",
    "sub4=int(input(\"Enter marks of the fourth subject: \"))\n",
    "sub5=int(input(\"Enter marks of the fifth subject: \"))\n",
    "tot=(sub1+sub2+sub3+sub4+sub5)\n",
    "grade = \"\"\n",
    "if(tot>=450):\n",
    "    print(\"Grade: A\")\n",
    "elif(tot>=400):\n",
    "    print(\"Grade: B\")\n",
    "elif(tot>=350):\n",
    "    print(\"Grade: C\")\n",
    "elif(tot>=300):\n",
    "    print(\"Grade: D\")\n",
    "else:\n",
    "    print(\"Grade: F\")\n",
    "print(\"Total Marks: \", tot)\n",
    "print(\"Grades: \", grade)"
   ]
  },
  {
   "cell_type": "code",
   "execution_count": 10,
   "metadata": {},
   "outputs": [
    {
     "name": "stdout",
     "output_type": "stream",
     "text": [
      "Enter Number: 88\n",
      "88 is Even Number\n"
     ]
    }
   ],
   "source": [
    "n = int(input(\"Enter Number: \"))\n",
    "if (n%2==0):\n",
    "    print(n, \"is Even Number\")\n",
    "else:\n",
    "    print(n, \"is Even Number\")"
   ]
  },
  {
   "cell_type": "code",
   "execution_count": 13,
   "metadata": {},
   "outputs": [
    {
     "name": "stdout",
     "output_type": "stream",
     "text": [
      "10\n"
     ]
    }
   ],
   "source": [
    "list = [34,44,56,46,68,78,98,12,44,33]\n",
    "print (len(list))"
   ]
  },
  {
   "cell_type": "code",
   "execution_count": 15,
   "metadata": {},
   "outputs": [
    {
     "name": "stdout",
     "output_type": "stream",
     "text": [
      "462\n"
     ]
    }
   ],
   "source": [
    "def sum_list(items):\n",
    "    sum_numbers = 0\n",
    "    for x in items:\n",
    "        sum_numbers += x\n",
    "    return sum_numbers\n",
    "print(sum_list([33,44,55,66,77,88,99]))"
   ]
  },
  {
   "cell_type": "markdown",
   "metadata": {},
   "source": [
    "a = []\n",
    "n = int(input(\"Enter the Number of Elements: \"))\n",
    "for i in range(1, n+1):\n",
    "    b = int(input(\"Enter Elements: \"))\n",
    "    a.append(b)\n",
    "print (a)\n",
    "Largest_number = max(a)\n",
    "print (Largest_number)"
   ]
  },
  {
   "cell_type": "code",
   "execution_count": 19,
   "metadata": {},
   "outputs": [
    {
     "name": "stdout",
     "output_type": "stream",
     "text": [
      "Enter the Number of Elements: 3\n",
      "Enter Elements: 33\n",
      "Enter Elements: 78\n",
      "Enter Elements: 1\n",
      "[33, 78, 1]\n",
      "78\n"
     ]
    }
   ],
   "source": [
    "a = [] \n",
    "n = int(input(\"Enter the Number of Elements: \")) \n",
    "for i in range(1, n+1): \n",
    "    b = int(input(\"Enter Elements: \")) \n",
    "    a.append(b) \n",
    "print (a) \n",
    "Largest_number = max(a) \n",
    "print (Largest_number)"
   ]
  },
  {
   "cell_type": "code",
   "execution_count": 20,
   "metadata": {},
   "outputs": [
    {
     "name": "stdout",
     "output_type": "stream",
     "text": [
      "1\n",
      "2\n",
      "3\n"
     ]
    }
   ],
   "source": [
    "list=[11,23,43,56,1,2,3]\n",
    "for i in list:\n",
    "    if i<5:\n",
    "        print(i)"
   ]
  },
  {
   "cell_type": "code",
   "execution_count": null,
   "metadata": {},
   "outputs": [],
   "source": []
  }
 ],
 "metadata": {
  "kernelspec": {
   "display_name": "Python 3",
   "language": "python",
   "name": "python3"
  },
  "language_info": {
   "codemirror_mode": {
    "name": "ipython",
    "version": 3
   },
   "file_extension": ".py",
   "mimetype": "text/x-python",
   "name": "python",
   "nbconvert_exporter": "python",
   "pygments_lexer": "ipython3",
   "version": "3.7.4"
  }
 },
 "nbformat": 4,
 "nbformat_minor": 2
}
